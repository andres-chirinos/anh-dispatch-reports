{
 "cells": [
  {
   "cell_type": "code",
   "execution_count": 7,
   "id": "34097fd5",
   "metadata": {},
   "outputs": [
    {
     "name": "stdout",
     "output_type": "stream",
     "text": [
      "Requirement already satisfied: pip in /home/andreschirinos/Proyectos/anh-dispatch-reports/.venv/lib/python3.10/site-packages (25.1.1)\n",
      "Note: you may need to restart the kernel to use updated packages.\n",
      "Requirement already satisfied: kaggle in /home/andreschirinos/Proyectos/anh-dispatch-reports/.venv/lib/python3.10/site-packages (1.7.4.5)\n",
      "Collecting PyYAML\n",
      "  Using cached PyYAML-6.0.2-cp310-cp310-manylinux_2_17_x86_64.manylinux2014_x86_64.whl.metadata (2.1 kB)\n",
      "Requirement already satisfied: bleach in /home/andreschirinos/Proyectos/anh-dispatch-reports/.venv/lib/python3.10/site-packages (from kaggle) (6.2.0)\n",
      "Requirement already satisfied: certifi>=14.05.14 in /home/andreschirinos/Proyectos/anh-dispatch-reports/.venv/lib/python3.10/site-packages (from kaggle) (2025.6.15)\n",
      "Requirement already satisfied: charset-normalizer in /home/andreschirinos/Proyectos/anh-dispatch-reports/.venv/lib/python3.10/site-packages (from kaggle) (3.4.2)\n",
      "Requirement already satisfied: idna in /home/andreschirinos/Proyectos/anh-dispatch-reports/.venv/lib/python3.10/site-packages (from kaggle) (3.10)\n",
      "Requirement already satisfied: protobuf in /home/andreschirinos/Proyectos/anh-dispatch-reports/.venv/lib/python3.10/site-packages (from kaggle) (6.31.1)\n",
      "Requirement already satisfied: python-dateutil>=2.5.3 in /home/andreschirinos/Proyectos/anh-dispatch-reports/.venv/lib/python3.10/site-packages (from kaggle) (2.9.0.post0)\n",
      "Requirement already satisfied: python-slugify in /home/andreschirinos/Proyectos/anh-dispatch-reports/.venv/lib/python3.10/site-packages (from kaggle) (8.0.4)\n",
      "Requirement already satisfied: requests in /home/andreschirinos/Proyectos/anh-dispatch-reports/.venv/lib/python3.10/site-packages (from kaggle) (2.32.4)\n",
      "Requirement already satisfied: setuptools>=21.0.0 in /home/andreschirinos/Proyectos/anh-dispatch-reports/.venv/lib/python3.10/site-packages (from kaggle) (80.9.0)\n",
      "Requirement already satisfied: six>=1.10 in /home/andreschirinos/Proyectos/anh-dispatch-reports/.venv/lib/python3.10/site-packages (from kaggle) (1.17.0)\n",
      "Requirement already satisfied: text-unidecode in /home/andreschirinos/Proyectos/anh-dispatch-reports/.venv/lib/python3.10/site-packages (from kaggle) (1.3)\n",
      "Requirement already satisfied: tqdm in /home/andreschirinos/Proyectos/anh-dispatch-reports/.venv/lib/python3.10/site-packages (from kaggle) (4.67.1)\n",
      "Requirement already satisfied: urllib3>=1.15.1 in /home/andreschirinos/Proyectos/anh-dispatch-reports/.venv/lib/python3.10/site-packages (from kaggle) (2.4.0)\n",
      "Requirement already satisfied: webencodings in /home/andreschirinos/Proyectos/anh-dispatch-reports/.venv/lib/python3.10/site-packages (from kaggle) (0.5.1)\n",
      "Using cached PyYAML-6.0.2-cp310-cp310-manylinux_2_17_x86_64.manylinux2014_x86_64.whl (751 kB)\n",
      "Installing collected packages: PyYAML\n",
      "Successfully installed PyYAML-6.0.2\n",
      "Note: you may need to restart the kernel to use updated packages.\n"
     ]
    }
   ],
   "source": [
    "%pip install --upgrade pip \n",
    "%pip install kaggle PyYAML"
   ]
  },
  {
   "cell_type": "code",
   "execution_count": 10,
   "id": "a053d8e8",
   "metadata": {},
   "outputs": [],
   "source": [
    "import os, json, yaml, requests, subprocess\n",
    "from kaggle.api.kaggle_api_extended import KaggleApi"
   ]
  },
  {
   "cell_type": "code",
   "execution_count": null,
   "id": "86473838",
   "metadata": {},
   "outputs": [],
   "source": []
  },
  {
   "cell_type": "code",
   "execution_count": null,
   "id": "7b78b83c",
   "metadata": {},
   "outputs": [],
   "source": [
    "data_dir = \"../data\"\n",
    "kaggle = {\n",
    "    \"title\": \"ANH Dispatch Reports\",\n",
    "    \"subtitle\": \"ANH Dispatch Reports ETL Pipeline\",\n",
    "    \"description\": \"This project contains the ETL pipeline for the ANH Dispatch Reports dataset.\",\n",
    "    \"id\": \"andreschirinos/anh-dispatch-reports\",\n",
    "    \"licenses\": [\n",
    "        {\n",
    "            \"name\": \"CC0-1.0\",\n",
    "            \"title\": \"CC0 1.0\",\n",
    "            \"path\": \"https://creativecommons.org/publicdomain/zero/1.0/\",\n",
    "        }\n",
    "    ],\n",
    "    \"keywords\": [\n",
    "        \"p2p\",\n",
    "        \"exchange\",\n",
    "        \"data\",\n",
    "        \"pipeline\",\n",
    "        \"etl\",\n",
    "        \"bob\",\n",
    "        \"bolivia\",\n",
    "        \"cryptocurrency\",\n",
    "        \"bitcoin\",\n",
    "        \"blockchain\",\n",
    "    ],\n",
    "    \"name\": \"anh-dispatch-report\",\n",
    "    \"version\": \"1.0.0\",\n",
    "    \"contributors\": [{\"title\": \"Andres Chirinos\", \"role\": \"author\"}],\n",
    "}"
   ]
  },
  {
   "cell_type": "code",
   "execution_count": 12,
   "id": "c7a3412d",
   "metadata": {
    "tags": [
     "parameters"
    ]
   },
   "outputs": [],
   "source": [
    "file_to_upload = 'data/dispatches.csv'\n",
    "drive_folder_id = os.getenv('DRIVE_FOLDER_ID')"
   ]
  },
  {
   "cell_type": "code",
   "execution_count": 13,
   "id": "3639ba22",
   "metadata": {},
   "outputs": [],
   "source": [
    "api = KaggleApi()\n",
    "api.authenticate()"
   ]
  },
  {
   "cell_type": "code",
   "execution_count": null,
   "id": "f664633e",
   "metadata": {},
   "outputs": [],
   "source": [
    "#datapackage = os.path.join(data_dir, \"datapackage.json\")\n",
    "#with open(datapackage, \"w\") as f:\n",
    "#    json.dump(kaggle, f)\n",
    "\n",
    "metadata_path = os.path.join(data_dir, \"dataset-metadata.json\")\n",
    "with open(metadata_path, \"w\") as f:\n",
    "    kaggle_metadata = dict()\n",
    "    kaggle_metadata[\"title\"] = kaggle[\"title\"]\n",
    "    kaggle_metadata[\"subtitle\"] = kaggle[\"subtitle\"]\n",
    "    kaggle_metadata[\"description\"] = kaggle[\"description\"]\n",
    "    kaggle_metadata[\"id\"] = kaggle[\"id\"]\n",
    "    kaggle_metadata[\"convertToCsv\"] = False\n",
    "    kaggle_metadata[\"deleteOldVersions\"] = False\n",
    "    kaggle_metadata[\"categoryIds\"] = kaggle[\"keywords\"]\n",
    "    kaggle_metadata[\"isPrivate\"] = True\n",
    "    kaggle_metadata[\"licenseName\"] = kaggle[\"licenses\"][0][\"name\"]\n",
    "    kaggle_metadata[\"slug\"] = kaggle[\"id\"].split(\"/\")[1]\n",
    "    kaggle_metadata[\"ownerSlug\"] = kaggle[\"id\"].split(\"/\")[0]\n",
    "    files = list()\n",
    "    for resource in kaggle[\"resources\"]:\n",
    "        file = dict()\n",
    "        file[\"token\"] = resource[\"path\"]\n",
    "        file[\"description\"] = resource[\"description\"]\n",
    "        columns = list()\n",
    "        for column in resource[\"schema\"][\"fields\"]:\n",
    "            column_dict = dict()\n",
    "            column_dict[\"order\"] = column[\"order\"]\n",
    "            column_dict[\"name\"] = column[\"name\"]\n",
    "            column_dict[\"type\"] = column[\"type\"]\n",
    "            column_dict[\"originalType\"] = None\n",
    "            column_dict[\"description\"] = column[\"description\"]\n",
    "            columns.append(column_dict)\n",
    "        file[\"columns\"] = columns\n",
    "        files.append(file)\n",
    "    kaggle_metadata[\"files\"] = files\n",
    "    json.dump(kaggle_metadata, f)"
   ]
  },
  {
   "cell_type": "code",
   "execution_count": null,
   "id": "6e89e5ec",
   "metadata": {},
   "outputs": [],
   "source": [
    "try:\n",
    "    api.dataset_status(kaggle[\"id\"])\n",
    "    print(\"Dataset already exists. Updating...\")\n",
    "\n",
    "    api.dataset_create_version(\n",
    "        folder=data_dir,\n",
    "        version_notes=\"Versión automática generada\",\n",
    "        # quiet=True,\n",
    "        convert_to_csv=False,\n",
    "        delete_old_versions=False,\n",
    "        dir_mode=\"zip\",\n",
    "    )\n",
    "\n",
    "except requests.exceptions.HTTPError as e:\n",
    "    print(e)\n",
    "    if e.response.status_code in [403,401]:\n",
    "        print(\"Dataset not found. Creating a new one...\")\n",
    "\n",
    "        api.dataset_create_new(\n",
    "            folder=data_dir,\n",
    "            convert_to_csv=False,\n",
    "            dir_mode=\"zip\",\n",
    "            public=True,\n",
    "            # quiet=True,\n",
    "        )"
   ]
  },
  {
   "cell_type": "code",
   "execution_count": null,
   "id": "6741a92e",
   "metadata": {},
   "outputs": [],
   "source": [
    "print(\"Cargado\")"
   ]
  }
 ],
 "metadata": {
  "kernelspec": {
   "display_name": ".venv",
   "language": "python",
   "name": "python3"
  },
  "language_info": {
   "codemirror_mode": {
    "name": "ipython",
    "version": 3
   },
   "file_extension": ".py",
   "mimetype": "text/x-python",
   "name": "python",
   "nbconvert_exporter": "python",
   "pygments_lexer": "ipython3",
   "version": "3.10.12"
  }
 },
 "nbformat": 4,
 "nbformat_minor": 5
}

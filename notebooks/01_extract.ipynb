{
 "cells": [
  {
   "cell_type": "code",
   "execution_count": null,
   "id": "2820b868",
   "metadata": {},
   "outputs": [],
   "source": [
    "# Install dependencies\n",
    "%pip install --upgrade pip \n",
    "%pip install pandas beautifulsoup4 requests"
   ]
  },
  {
   "cell_type": "code",
   "execution_count": null,
   "id": "20806471",
   "metadata": {},
   "outputs": [],
   "source": [
    "from bs4 import BeautifulSoup as bs\n",
    "import os, json, requests, hashlib, datetime"
   ]
  },
  {
   "cell_type": "code",
   "execution_count": 13,
   "id": "25728719",
   "metadata": {
    "tags": [
     "parameters"
    ]
   },
   "outputs": [],
   "source": [
    "input_urls = [\"https://anhinforma.github.io/reportedespachos\",\"https://anhinforma.github.io/despachoSCZ\", \"https://anhinforma.github.io/despachosCBBA\"]\n",
    "data_path = \"../data\""
   ]
  },
  {
   "cell_type": "code",
   "execution_count": 16,
   "id": "d570f694",
   "metadata": {},
   "outputs": [
    {
     "name": "stdout",
     "output_type": "stream",
     "text": [
      "Request successful!\n",
      "HTML and its inline dependencies saved to ../data/raw_html_reportedespachos.html\n",
      "Metadata saved to ../data/metadata_reportedespachos.json\n",
      "Data extraction for reportedespachos completed successfully.\n",
      "Request successful!\n",
      "HTML and its inline dependencies saved to ../data/raw_html_despachoSCZ.html\n",
      "Metadata saved to ../data/metadata_despachoSCZ.json\n",
      "Data extraction for despachoSCZ completed successfully.\n",
      "Request successful!\n",
      "HTML and its inline dependencies saved to ../data/raw_html_despachosCBBA.html\n",
      "Metadata saved to ../data/metadata_despachosCBBA.json\n",
      "Data extraction for despachosCBBA completed successfully.\n"
     ]
    }
   ],
   "source": [
    "for input_url in input_urls:\n",
    "    request = requests.get(input_url)\n",
    "    if request.status_code == 200:\n",
    "        print(\"Request successful!\")\n",
    "    else:\n",
    "        print(f\"Request failed with status code: {request.status_code}\")\n",
    "    \n",
    "    indicator = input_url.split('/')[-1]\n",
    "\n",
    "    soup = bs(request.text, \"html.parser\")\n",
    "\n",
    "    html_file = os.path.join(data_path, f\"raw_html_{indicator}.html\")\n",
    "    with open(html_file, \"w\", encoding=\"utf-8\") as f:\n",
    "        f.write(str(soup))\n",
    "    print(f\"HTML and its inline dependencies saved to {html_file}\")\n",
    "\n",
    "    metadata = {\n",
    "        \"source\": input_url,\n",
    "        \"request_status\": request.status_code,\n",
    "        \"timestamp\": datetime.datetime.now().isoformat(),\n",
    "        \"unix_timestamp\": int(datetime.datetime.now().timestamp()),\n",
    "        \"hash\": hashlib.md5(soup.prettify().encode(\"utf-8\")).hexdigest()\n",
    "    }\n",
    "\n",
    "    metadata_file = os.path.join(data_path, f\"metadata_{indicator}.json\")\n",
    "    with open(metadata_file, \"w\", encoding=\"utf-8\") as f:\n",
    "        json.dump(metadata, f, ensure_ascii=False, indent=4)\n",
    "    print(f\"Metadata saved to {metadata_file}\")\n",
    "    print(f\"Data extraction for {indicator} completed successfully.\")"
   ]
  }
 ],
 "metadata": {
  "kernelspec": {
   "display_name": ".venv",
   "language": "python",
   "name": "python3"
  },
  "language_info": {
   "codemirror_mode": {
    "name": "ipython",
    "version": 3
   },
   "file_extension": ".py",
   "mimetype": "text/x-python",
   "name": "python",
   "nbconvert_exporter": "python",
   "pygments_lexer": "ipython3",
   "version": "3.10.12"
  }
 },
 "nbformat": 4,
 "nbformat_minor": 5
}
